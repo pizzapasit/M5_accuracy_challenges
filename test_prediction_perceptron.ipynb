{
 "cells": [
  {
   "cell_type": "code",
   "execution_count": 1,
   "id": "3bda32b6-35bf-49bb-be51-ac983b2281b4",
   "metadata": {},
   "outputs": [],
   "source": [
    "import numpy as np\n",
    "import matplotlib.pyplot as plt\n",
    "import pandas as pd\n",
    "import scipy.io as scp\n",
    "import math\n",
    "import statistics\n",
    "import seaborn as sns\n",
    "import sklearn\n",
    "\n",
    "from matplotlib.patches import Polygon\n",
    "from scipy.stats import anderson\n",
    "from scipy.stats import shapiro\n",
    "from scipy import stats\n",
    "from statistics import stdev\n",
    "from numpy.random import randn\n",
    "from numpy.random import seed\n",
    "from scipy.stats import spearmanr\n",
    "from scipy.stats import pearsonr\n",
    "\n",
    "#from sklearn import linear_model\n",
    "from sklearn import linear_model\n",
    "from sklearn.tree import DecisionTreeRegressor\n",
    "from sklearn.metrics import mean_squared_error, r2_score, mean_absolute_error\n",
    "\n",
    "\n",
    "import numpy as np\n",
    "from sklearn.decomposition import PCA\n",
    "\n",
    "from __future__ import print_function\n",
    "from __future__ import division\n",
    "\n",
    "from sklearn.model_selection import train_test_split\n",
    "from sklearn.linear_model import Ridge\n",
    "from sklearn.linear_model import Lasso\n",
    "from sklearn.model_selection import GridSearchCV\n",
    "import statsmodels.api as sm\n",
    "from warnings import filterwarnings\n",
    "\n",
    "import statsmodels.api as sm\n",
    "import statsmodels.formula.api as smf\n",
    "from statsmodels.tools import eval_measures\n",
    "from sklearn.model_selection import train_test_split\n",
    "\n",
    "\n",
    "filterwarnings('ignore')"
   ]
  },
  {
   "cell_type": "code",
   "execution_count": 2,
   "id": "13fa3a13-df24-4e69-a96f-9addfa6a1ac1",
   "metadata": {},
   "outputs": [],
   "source": [
    "datainput = pd.read_csv(\"final_data_file.csv\")\n",
    "datainput = datainput.iloc[: , 1:]\n",
    "for col in [\"item_id\", \"dept_id\",\"cat_id\",\"store_id\",\"state_id\",\"d\"]:\n",
    "    datainput[col] = datainput[col].astype('category')\n",
    "for i in datainput.columns:\n",
    "    if str(datainput[i].dtype)=='category':\n",
    "        datainput[i] = datainput[i].cat.codes\n",
    "        \n",
    "xOriginal = datainput[[\"item_id\", \"dept_id\",\"cat_id\",\"store_id\",\"state_id\",\"d\",\"wday\",\"month\",\"year\",\"weekend\"]].to_numpy()\n",
    "yOriginal = datainput[[\"sales\"]].to_numpy()\n",
    "\n",
    "xTrain = xOriginal[int(len(xOriginal) * 0) : int(len(xOriginal) * .70)]\n",
    "yTrain = yOriginal[int(len(yOriginal) * 0) : int(len(yOriginal) * .70)]\n",
    "xTest = xOriginal[int(len(xOriginal) * .80) : int(len(xOriginal) * 1.00)]\n",
    "yTest = yOriginal[int(len(yOriginal) * .80) : int(len(yOriginal) * 1.00)]"
   ]
  },
  {
   "cell_type": "code",
   "execution_count": null,
   "id": "cb0c622f-84d2-4ace-892a-e18bca23cd0e",
   "metadata": {},
   "outputs": [],
   "source": [
    "#Perceptron Model\n",
    "Perceptron_model = linear_model.Perceptron()\n",
    "Perceptron_model.fit(xTrain, yTrain)\n",
    "\n",
    "y_pred_model = Perceptron_model.predict(xTest)\n",
    "\n",
    "\n",
    "print(\"Coefficients: \\n\", Perceptron_model)\n",
    "# The mean squared error\n",
    "print(\"Mean squared error: %.2f\" % mean_squared_error(yTest, y_pred_model))\n",
    "print(\"Mean absoulte error: %.2f\" % mean_absolute_error(yTest, y_pred_model))\n",
    "# The coefficient of determination: 1 is perfect prediction\n",
    "print(\"Coefficient of determination: %.2f\" % r2_score(yTest, y_pred_model))"
   ]
  },
  {
   "cell_type": "code",
   "execution_count": null,
   "id": "b1b5a9b8-040d-474c-a200-013e518eaa5b",
   "metadata": {},
   "outputs": [],
   "source": [
    "\n"
   ]
  }
 ],
 "metadata": {
  "kernelspec": {
   "display_name": "Python 3",
   "language": "python",
   "name": "python3"
  },
  "language_info": {
   "codemirror_mode": {
    "name": "ipython",
    "version": 3
   },
   "file_extension": ".py",
   "mimetype": "text/x-python",
   "name": "python",
   "nbconvert_exporter": "python",
   "pygments_lexer": "ipython3",
   "version": "3.8.8"
  }
 },
 "nbformat": 4,
 "nbformat_minor": 5
}
